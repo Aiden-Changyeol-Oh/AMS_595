{
 "cells": [
  {
   "cell_type": "markdown",
   "metadata": {
    "id": "xq__bChjD04e"
   },
   "source": [
    "# Python Assignment 1"
   ]
  },
  {
   "cell_type": "markdown",
   "metadata": {
    "id": "y7j2V0UDMYLG"
   },
   "source": [
    "⏱⏱⏱**Due: 10/20/2024 11:59:59 PM** ⏱⏱⏱\n",
    "\n",
    "Submit this notebook file and upload it to your git repo. Include a link to your git repo while submitting this file to Brightspace.\n",
    "\n",
    "You are not allowed to use chatgpt or any LLM in this assignment.\n",
    "Cooperation is allowed and encouraged; however, you must write up and submit your own work. If you cooperate with others, you must list their names here."
   ]
  },
  {
   "cell_type": "markdown",
   "metadata": {
    "id": "SUS30Ew9D04n"
   },
   "source": [
    "Total points: 100 (equivalent to 20 points after conversion)"
   ]
  },
  {
   "cell_type": "markdown",
   "metadata": {
    "id": "b_bgT3b2GYTB"
   },
   "source": [
    "## 0. Data Types, Structures, Indexing, and Slicing"
   ]
  },
  {
   "cell_type": "markdown",
   "metadata": {
    "id": "6yI1Jt57IwV2"
   },
   "source": [
    "Read the lecutre note as well as [this page](https://www.geeksforgeeks.org/mutable-vs-immutable-objects-in-python/) and [this page](https://www.geeksforgeeks.org/difference-between-shallow-and-deep-copy-of-a-class/). Complete the following questions.\n",
    "\n",
    "(5 points) Give some examples (at least 2) of mutable objects in Python.\n",
    "\n",
    "***Answer:***\n",
    "ndarray(Array of NumPy), List, Dictionary\n",
    "\n",
    "Example:\n",
    "Suppose x = [1, 2, 3], y = x, y += [4,].\n",
    "If print x and y, then both returns [1, 2, 3, 4] as a form of \"List\". It implies 'List' is one of container to write or rewrite as mutable object. \n",
    "\n",
    "---\n",
    "\n",
    "\n",
    "(5 points) Give some examples (at least 2) of immutable objects in Python.\n",
    "\n",
    "***Answer:***\n",
    "tuple, string, number \n",
    "\n",
    "In Python, Immutable can be regarded as a kind of deep copy, changing the value directly.\n",
    "For example, suppose x = 'abcd', y = x, y += 'e'.\n",
    "Then if print x and y, then x will return abcd and y will return abcde.\n",
    "Additionally, suppose x = (1, 2, 3), y = x, y += (4,).\n",
    "Then if print x and y, then x will return (1, 2, 3) and y will return (1, 2, 3, 4). \n",
    "\n",
    "---\n",
    "\n",
    "\n",
    "(10 points) State the differences between assignment, shallow copy, and deep copy. Any reasonable answer will get full credit.\n",
    "\n",
    "***Answer:***\n",
    "Write the answer below.\n",
    "\n",
    "\n",
    "When deliver an argument to a function in Python, what is technically set is a reference to the object pointed to by the argument. In other words, the name of the argument is used within the function to access the object referenced by the argument. Also, assigning a value to a variable is assigning a reference to an object to the variable. Therefore, assigning a value to a number also follows a rule of \"Call by Assignment\". Therefore, when calling a function argument, the value can change depending on whether the argument is a mutable object or immutable object.\n",
    "\n",
    "As it is mentioned on the above, since a container that can be written is mutable, it could be understood as a shallow copy. In python, immutable data types(tuples, numbers, strings) can be regarded as a deep compy where the value is directly changed. On the other hand, mutable data types, containers that can be written) appy a shallow copy(only copying the pointer internally). It is shown as a function 'object.copy()'. In order to copy the actual value, a deep copy, it must be used with the function.\n",
    "\n",
    "\n",
    "---"
   ]
  },
  {
   "cell_type": "markdown",
   "metadata": {
    "id": "OA8DxcrrGqZD"
   },
   "source": [
    "(10 points) Using string methods find() and rfind(), find the index of the first digit (i.e. 0) and the index of the last digit (5) in the string below. Then, using string slicing, extract the number (i.e. 0.595595) from this string and convert the extracted value to a floating point number. Print out this float to the console."
   ]
  },
  {
   "cell_type": "code",
   "metadata": {
    "id": "AUuFXXWqG4D3",
    "ExecuteTime": {
     "end_time": "2024-10-18T21:14:42.532525Z",
     "start_time": "2024-10-18T21:14:42.528206Z"
    }
   },
   "source": [
    "text = \"F-DGFDDSFGFD-CFDSHdstgfdfe: tfsd  aaa bdsf 0.595595 fdsgfdbc\";\n",
    "\n",
    "# To find the index of the first digit using a for loop\n",
    "for str in text:\n",
    "    if str.isdigit():\n",
    "        first_index = text.find(str)\n",
    "        break\n",
    "\n",
    "# To find the index of the last digit using a loop with reverse concept.\n",
    "\"\"\"\"\"\"\"\"\"\n",
    "On the third line in the for loop, there should be \"-1\", since the index values are no longer aligned with the original. This reversed index implies the distance from the end of the given string text and it corresponds to \"len(text) - 1\". Hence, it needs to subtract that index 1 from len(text) to map it back to the given \"text\".\n",
    " \"\"\"\"\"\"\"\"\"\n",
    "for str in reversed(text):\n",
    "    if str.isdigit():\n",
    "        last_index = len(text) - text[::-1].find(str) -1\n",
    "        break\n",
    "\n",
    "# By using slicing method for the string, it will be for the given decimal points. Then, it needs to be converted to a floating number.\n",
    "\"\"\"\"\"\"\"\"\"\n",
    "To be similar, the \"+1\" from the sl_num is related to the string slicing concept following the convention where the start index is inclusive, but the end index is exclusive.\n",
    "\"\"\"\"\"\"\"\"\"\n",
    "sl_num = text[first_index:last_index + 1]  \n",
    "con_num = float(sl_num)\n",
    "\n",
    "print(con_num)\n"
   ],
   "outputs": [
    {
     "name": "stdout",
     "output_type": "stream",
     "text": [
      "0.595595\n"
     ]
    }
   ],
   "execution_count": 4
  },
  {
   "cell_type": "markdown",
   "metadata": {
    "id": "cnCljYgpD04p"
   },
   "source": [
    "## 1. Conditional Statements\n",
    "\n",
    "(10 points)\n",
    "Translate the following MATLAB code into Python using `if-elif-else`.\n",
    "```\n",
    "n = input('Enter a number: ');\n",
    "\n",
    "switch n\n",
    "    case -1\n",
    "        disp('negative one')\n",
    "    case 0\n",
    "        disp('zero')\n",
    "    case 1\n",
    "        disp('positive one')\n",
    "    otherwise\n",
    "        disp('other value')\n",
    "end\n",
    "```"
   ]
  },
  {
   "cell_type": "code",
   "metadata": {
    "collapsed": true,
    "id": "9d8vl5zjD04q",
    "ExecuteTime": {
     "end_time": "2024-10-18T21:22:20.245253Z",
     "start_time": "2024-10-18T21:22:16.907952Z"
    }
   },
   "source": [
    "# Translate the above MATLAB code into Python with if-elif-else.\n",
    "n = int(input('Enter a number: '))\n",
    "\n",
    "# The 'n' will be translated using a condition successively 'if-elif-elif-else', as a same function in Python.\n",
    "\"\"\"\"\"\"\"\"\"\n",
    "For example, if you input 20, then it returns 'other value'.\n",
    "Also, if you input one of the numbers(-1, 0, or 1), it returns the matched printed mention as below.\n",
    "\"\"\"\"\"\"\"\"\"\n",
    "if n == -1:\n",
    "    print('negative one')\n",
    "elif n == 0:\n",
    "    print('zero')\n",
    "elif n == 1:\n",
    "    print('positive one')\n",
    "else:\n",
    "    print('other value')\n"
   ],
   "outputs": [
    {
     "name": "stdout",
     "output_type": "stream",
     "text": [
      "other value\n"
     ]
    }
   ],
   "execution_count": 8
  },
  {
   "cell_type": "markdown",
   "metadata": {
    "id": "sW9XiUPpD04s"
   },
   "source": [
    "## 2. While Loops\n",
    "\n",
    "(10 points) Write a Python program that calculates the factorial of a given number (you can assume an positive integer) using a while loop. Display the result to the console."
   ]
  },
  {
   "cell_type": "code",
   "metadata": {
    "colab": {
     "base_uri": "https://localhost:8080/"
    },
    "collapsed": true,
    "id": "CRCERx8uD04t",
    "outputId": "1870b9d1-fe04-4ae7-e5ec-08ce640ce72e",
    "ExecuteTime": {
     "end_time": "2024-10-18T21:36:57.257205Z",
     "start_time": "2024-10-18T21:36:55.579471Z"
    }
   },
   "source": [
    "\"\"\"\"\"\"\"\"\"\n",
    "This code represents how to calculate the factorial concept using a decrementing while loop with a given positive integer.\n",
    "\"\"\"\"\"\"\"\"\"  \n",
    "# Begin with a positive number\n",
    "n = int(input('Enter a positive integer: '))\n",
    "\n",
    "# It needs to be set initial factorial result and the number of counts\n",
    "init_factorial = 1\n",
    "f = n\n",
    "\n",
    "# the following while loop carry out the decrementing factorial calculation.\n",
    "while f > 0:\n",
    "    init_factorial *= f\n",
    "    f -= 1\n",
    "\n",
    "\n",
    "\"\"\"\"\"\"\"\"\"\n",
    "For the test cases, if you input 17, then it returns as the following three forms: 355687428096000, The factorial of 17 is 355687428096000, 17! = 355687428096000.\n",
    "\n",
    "For the test cases, if you input 13, then it returns as the following three forms: 6227020800, The factorial of 13 is 6227020800, 13! = 6227020800.\n",
    "\"\"\"\"\"\"\"\"\"\n",
    "\n",
    "print(init_factorial)\n",
    "print(\"The factorial of {} is {}\".format(n, init_factorial))\n",
    "print(\"{}! = {}\".format(n, init_factorial))\n",
    "\n",
    "\n",
    "# test cases\n",
    "# n = 17, Output: 355687428096000\n",
    "# n = 13, Output: 6227020800"
   ],
   "outputs": [
    {
     "name": "stdout",
     "output_type": "stream",
     "text": [
      "6227020800\n",
      "The factorial of 13 is 6227020800\n",
      "13! = 6227020800\n"
     ]
    }
   ],
   "execution_count": 13
  },
  {
   "cell_type": "markdown",
   "metadata": {
    "id": "ZQ5SVMq6D04w"
   },
   "source": [
    "## 3. Functions\n",
    "\n",
    "(10 points) Write a function that determines if a number is prime."
   ]
  },
  {
   "cell_type": "code",
   "metadata": {
    "colab": {
     "base_uri": "https://localhost:8080/"
    },
    "id": "6rGP5G3_D04x",
    "outputId": "00df2d17-b697-4146-968f-be4fa7cc3ba3",
    "ExecuteTime": {
     "end_time": "2024-10-18T21:54:29.750460Z",
     "start_time": "2024-10-18T21:54:29.747274Z"
    }
   },
   "source": [
    "\"\"\"\"\"\"\"\"\"\n",
    "This code is find out whether the input number is prime.\n",
    "A prime number is a natural number greater than 1 that is not a product of two smaller natural numbers.\n",
    "\"\"\"\"\"\"\"\"\"\n",
    "def is_prime(n):\n",
    "    # It is to check numbers less than or equal to 1 are not a prime number\n",
    "    if n <= 1:\n",
    "        return False \n",
    "    \n",
    "    # Then it also needs to identify the factors from 2 to the square root of the input \"n\".\n",
    "    # If the \"n\" is divisible by i, it will not be a prime.\n",
    "    # Then, if there is no factors, n should be a prime.\n",
    "    for i in range(2, int(n**0.5) + 1):\n",
    "        if n % i == 0:\n",
    "            return False\n",
    "    return True\n",
    "\n",
    "# test cases\n",
    "print(is_prime(2))      # Output: True\n",
    "print(is_prime(10))     # Output: False\n",
    "print(is_prime(17))     # Output: True"
   ],
   "outputs": [
    {
     "name": "stdout",
     "output_type": "stream",
     "text": [
      "True\n",
      "False\n",
      "True\n"
     ]
    }
   ],
   "execution_count": 19
  },
  {
   "cell_type": "markdown",
   "metadata": {
    "id": "Z6qg-fpQD04u"
   },
   "source": [
    "## 4. List Comprehension\n",
    "\n",
    "(10 points) Write a Python function called `prime_factors` that takes a relatively small integer as input and returns a list of its distinct prime factors. The function should use list comprehension to generate the list of distinct prime factors. You may use the function is_prime() defined in Q3.\n"
   ]
  },
  {
   "cell_type": "code",
   "metadata": {
    "colab": {
     "base_uri": "https://localhost:8080/"
    },
    "collapsed": true,
    "id": "2hSCjYlOD04v",
    "outputId": "1024d2e2-7d24-4e65-9529-e5a82d2a3211",
    "ExecuteTime": {
     "end_time": "2024-10-18T22:00:44.369929Z",
     "start_time": "2024-10-18T22:00:44.364209Z"
    }
   },
   "source": [
    "\"\"\"\"\"\"\"\"\"\n",
    "Basically, in Q.3 and Q.4, to make the code process, it is composed by using the square root approach with reduction the range of the numbers that the codes should identify. Since this list comprehension question is also used to generate the list of prime factors as like Q.3, it could also check if \"n\" is a prime itself as the last step of the below.\n",
    "\"\"\"\"\"\"\"\"\"\n",
    "## Use the following code of Q.3, to adapt square root approach.\n",
    "def is_prime(n):\n",
    "    # It is to check numbers less than or equal to 1 are not a prime number\n",
    "    if n <= 1:\n",
    "        return False \n",
    "    \n",
    "    # Then it also needs to identify the factors from 2 to the square root of the input \"n\".\n",
    "    # If the \"n\" is divisible by i, it will not be a prime.\n",
    "    # Then, if there is no factors, n should be a prime.\n",
    "    for i in range(2, int(n**0.5) + 1):\n",
    "        if n % i == 0:\n",
    "            return False\n",
    "    return True\n",
    "\n",
    "def prime_factors(n):\n",
    "    # Set an empty list for the calculated number and iterate from 2 to the square root of n.\n",
    "    factor_list = []\n",
    "    \n",
    "    for i in range(2, int(n**0.5) + 1):\n",
    "        if n % i == 0: # i = divisor\n",
    "            if is_prime(i):\n",
    "                # if i = a prime, it will be added into the list above.\n",
    "                factor_list.append(i)\n",
    "            \n",
    "            ## This part is critical. Since it is using a square root approach, it could be missed the case likes n = 464, if the factors are greater than the square root of n.\n",
    "            if is_prime(n // i) and i != n //i:\n",
    "                # (n // i) will be added if and if only it's a prime.\n",
    "                factor_list.append(n // i)\n",
    "\n",
    "    # This part is for the initial \"n\" is a prime itself.          \n",
    "    if is_prime(n):\n",
    "        factor_list.append(n)\n",
    "        \n",
    "    return sorted(factor_list)\n",
    "\n",
    "\n",
    "# test cases\n",
    "print(prime_factors(30))  # Output: [2, 3, 5]\n",
    "print(prime_factors(56))  # Output: [2, 7]\n",
    "print(prime_factors(198))  # Output: [2, 3, 11]\n",
    "print(prime_factors(464))  # Output: [2, 29]"
   ],
   "outputs": [
    {
     "name": "stdout",
     "output_type": "stream",
     "text": [
      "[2, 3, 5]\n",
      "[2, 7]\n",
      "[2, 3, 11]\n",
      "[2, 29]\n"
     ]
    }
   ],
   "execution_count": 20
  },
  {
   "cell_type": "markdown",
   "metadata": {
    "id": "dw4kZZCiD040"
   },
   "source": [
    "## 5. Recursive Functions\n",
    "(25 points) Write a function that uses recursion to generate the $n$th row of the Pascal's triangle.\n",
    "```\n",
    "              1\n",
    "           1     1\n",
    "        1     2     1\n",
    "      1    3     3     1\n",
    "   1    4     6     4    1\n",
    "1     5    10    10    5    1\n",
    "...\n",
    "...\n",
    "...\n",
    "```"
   ]
  },
  {
   "cell_type": "code",
   "metadata": {
    "colab": {
     "base_uri": "https://localhost:8080/"
    },
    "id": "V8QFB_gKD040",
    "outputId": "4946dc49-2061-4057-e65d-9f48af44dac9",
    "ExecuteTime": {
     "end_time": "2024-10-18T22:27:39.584450Z",
     "start_time": "2024-10-18T22:27:39.580627Z"
    }
   },
   "source": [
    "\"\"\"\"\"\"\"\"\"\n",
    "Binomial expression Approach:\n",
    "\n",
    "Mathematically, the Pascal's triangle is defined with a binomial expression. Suppose (a+b)^2. It is 1*a^2 + 2*ab + 1*b^2. As we move through each term from left to right, the power of a decreases from 2 down to zero. Then, the power of b increases from zero up to 2. The coefficients of each term, (1, 2, 1) are the numbers which appear in the row of Pascal's triangle beginning 1, 2. The term 2ab arises from contributions of 1ab and 1ba. This is the lik with the way the 2 in Pascal's triangle is generated such as by adding 1 and 1 in the previous row. This approach can be expanded to the 3rd power and 4th power and so far.\n",
    "\"\"\"\"\"\"\"\"\" \n",
    "\n",
    "# To adapt the binomial, the \"pascal\" have two objects: n and i.\n",
    "def pascal(n, i):    \n",
    "    if i == 0 or i == n:\n",
    "        return 1\n",
    "    return pascal(n - 1 , i - 1) + pascal(n - 1, i) #Recursive call\n",
    "\n",
    "def recur_pascal(n):\n",
    "    return [pascal(n, i) for i in range(n + 1)]\n",
    "\n",
    "# test case\n",
    "print(recur_pascal(5)) # output [1, 5, 10, 10, 5, 1]\n",
    "print(recur_pascal(6))  # output [1, 6, 15, 20, 15, 6, 1]"
   ],
   "outputs": [
    {
     "name": "stdout",
     "output_type": "stream",
     "text": [
      "[1, 5, 10, 10, 5, 1]\n",
      "[1, 6, 15, 20, 15, 6, 1]\n"
     ]
    }
   ],
   "execution_count": 29
  },
  {
   "cell_type": "markdown",
   "metadata": {
    "id": "eZytgm0qD041"
   },
   "source": [
    "Rewrite the above function using only `while` or `for` loops instead of recursion."
   ]
  },
  {
   "cell_type": "code",
   "metadata": {
    "colab": {
     "base_uri": "https://localhost:8080/"
    },
    "collapsed": true,
    "id": "UZ8f-akaD041",
    "outputId": "68ec5672-a40f-493f-e725-68b7471e76bc",
    "ExecuteTime": {
     "end_time": "2024-10-18T22:31:36.690057Z",
     "start_time": "2024-10-18T22:31:36.687017Z"
    }
   },
   "source": [
    "\"\"\"\"\"\"\"\"\"\n",
    "This loop code is based on the iteration of the binomial's coefficients.\n",
    "\"\"\"\"\"\"\"\"\"\n",
    "def pascal_by_loops(n):\n",
    "    cnt_row = [1] # It implies the code will start at the first row and then count the number of rows.\n",
    "    \n",
    "    for i in range(1, n + 1):\n",
    "        # This part represents the binomial coefficient based on the iterated, calculating the former returning value.\n",
    "        cnt_row.append(cnt_row[i - 1] * (n - (i - 1)) // i)\n",
    "        \n",
    "    return cnt_row\n",
    "\n",
    "print(pascal_by_loops(5)) # output [1, 5, 10, 10, 5, 1]\n",
    "print(pascal_by_loops(6)) # output [1, 6, 15, 20, 15, 6, 1]"
   ],
   "outputs": [
    {
     "name": "stdout",
     "output_type": "stream",
     "text": [
      "[1, 5, 10, 10, 5, 1]\n",
      "[1, 6, 15, 20, 15, 6, 1]\n"
     ]
    }
   ],
   "execution_count": 34
  },
  {
   "cell_type": "markdown",
   "metadata": {
    "id": "HvHD6QHzVo9I"
   },
   "source": [
    "\n",
    "\n",
    "---\n",
    "\n",
    "\n",
    "（5 points) good coding practice and properly submitting your work to GitHub."
   ]
  }
 ],
 "metadata": {
  "anaconda-cloud": {},
  "colab": {
   "provenance": []
  },
  "kernelspec": {
   "display_name": "Python 3",
   "language": "python",
   "name": "python3"
  },
  "language_info": {
   "codemirror_mode": {
    "name": "ipython",
    "version": 3
   },
   "file_extension": ".py",
   "mimetype": "text/x-python",
   "name": "python",
   "nbconvert_exporter": "python",
   "pygments_lexer": "ipython3",
   "version": "3.7.4"
  }
 },
 "nbformat": 4,
 "nbformat_minor": 0
}
